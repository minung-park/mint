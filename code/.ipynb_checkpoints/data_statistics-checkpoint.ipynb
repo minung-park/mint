{
 "cells": [
  {
   "cell_type": "code",
   "execution_count": 21,
   "metadata": {
    "collapsed": true
   },
   "outputs": [],
   "source": [
    "import os\n",
    "import json\n",
    "import codecs \n",
    "\n",
    "home_path = os.path.expanduser('~')\n",
    "dir_path = home_path + \"/tacolab/neural-belief-tracker-master/\"\n",
    "tfnlp_path = home_path + \"/virtualenvironment/tfnlp/\"\n",
    "train_data = 'data/woz/woz_train_ko.json'\n",
    "test_data = 'data/woz/woz_test_ko.json'\n",
    "validate_data = 'data/woz/woz_validate_ko.json'"
   ]
  },
  {
   "cell_type": "markdown",
   "metadata": {},
   "source": [
    "## 데이터로드\n",
    "\n",
    "data_path 바꿔서 데이터 확인 가능"
   ]
  },
  {
   "cell_type": "code",
   "execution_count": 22,
   "metadata": {
    "collapsed": false
   },
   "outputs": [],
   "source": [
    "data_path = dir_path+validate_data\n",
    "\n",
    "print('path: ' +data_path)\n",
    "total_chat_idx = 0\n",
    "\n",
    "\n",
    "#json.load(codecs.open(ontology, \"r\", \"cp949\", \"ignore\"))\n",
    "#with open(data_path) as f:\n",
    "list = json.load(codecs.open(data_path, \"r\", \"cp949\", \"ignore\"))\n",
    "    \n",
    "for data in list:\n",
    "    idx = data['dialogue_idx']\n",
    "    print('============'+str(idx)+'th chat===============')\n",
    "    dial_list = data['dialogue']\n",
    "    for dial_text in dial_list:\n",
    "        system_transcript = dial_text['system_transcript'] # system_utterance\n",
    "        transcript = dial_text['transcript'] # user_utterance\n",
    "        if system_transcript:\n",
    "            print('sys: ' + system_transcript)\n",
    "            total_chat_idx = total_chat_idx +1\n",
    "        if transcript:\n",
    "            print('user: ' + transcript)\n",
    "            total_chat_idx = total_chat_idx +1\n",
    "            "
   ]
  },
  {
   "cell_type": "code",
   "execution_count": 24,
   "metadata": {
    "collapsed": false
   },
   "outputs": [],
   "source": [
    "print (\"total_chat_idx = \" + str(total_chat_idx)) # 데이터 총 발화 수"
   ]
  },
  {
   "cell_type": "markdown",
   "metadata": {},
   "source": [
    "## 임베딩 & 학습과정 시각화\n",
    "word2vec 으로 쓰인 데이터 > 빌리프 트래커,위키피디아,나무위키 코퍼스로 mecab으로 파싱하되 tag를 붙이지 않고 skip-gram 방법으로 300차원으로 구축\n",
    "\n",
    "텐서보드: http://192.168.100.3:6006/#projector"
   ]
  },
  {
   "cell_type": "code",
   "execution_count": 23,
   "metadata": {
    "collapsed": false
   },
   "outputs": [],
   "source": [
    "w2v_data = tfnlp_path + \"wvfile/23_wv.txt\"\n",
    "w2v_file = open(w2v_data, 'r')\n",
    "\n",
    "lines = w2v_file.readlines()\n",
    "\n",
    "print(\"vector size: \" + lines[0].split(\" \")[0])\n",
    "print(\"dimension: \" + lines[0].split(\" \")[1])"
   ]
  },
  {
   "cell_type": "markdown",
   "metadata": {},
   "source": [
    "## 온라인 테스트"
   ]
  },
  {
   "cell_type": "code",
   "execution_count": 14,
   "metadata": {
    "collapsed": false
   },
   "outputs": [
    {
     "ename": "IOError",
     "evalue": "[Errno 2] No such file or directory: '/home/textfactory/tacolab/neural-belief-tracker-master/code/ontologies/ontology_dstc2_en.json'",
     "output_type": "error",
     "traceback": [
      "\u001b[1;31m---------------------------------------------------------------------------\u001b[0m",
      "\u001b[1;31mIOError\u001b[0m                                   Traceback (most recent call last)",
      "\u001b[1;32m<ipython-input-14-b72170a1f02e>\u001b[0m in \u001b[0;36m<module>\u001b[1;34m()\u001b[0m\n\u001b[0;32m      2\u001b[0m \u001b[0montology\u001b[0m \u001b[1;33m=\u001b[0m \u001b[0mos\u001b[0m\u001b[1;33m.\u001b[0m\u001b[0mgetcwd\u001b[0m\u001b[1;33m(\u001b[0m\u001b[1;33m)\u001b[0m\u001b[1;33m+\u001b[0m\u001b[1;34m\"/ontologies/ontology_dstc2_en.json\"\u001b[0m\u001b[1;33m\u001b[0m\u001b[0m\n\u001b[0;32m      3\u001b[0m \u001b[1;33m\u001b[0m\u001b[0m\n\u001b[1;32m----> 4\u001b[1;33m \u001b[0montology_file\u001b[0m \u001b[1;33m=\u001b[0m \u001b[0mjson\u001b[0m\u001b[1;33m.\u001b[0m\u001b[0mload\u001b[0m\u001b[1;33m(\u001b[0m\u001b[0mcodecs\u001b[0m\u001b[1;33m.\u001b[0m\u001b[0mopen\u001b[0m\u001b[1;33m(\u001b[0m\u001b[0montology\u001b[0m\u001b[1;33m,\u001b[0m \u001b[1;34m\"r\"\u001b[0m\u001b[1;33m,\u001b[0m \u001b[1;34m\"cp949\"\u001b[0m\u001b[1;33m,\u001b[0m \u001b[1;34m\"ignore\"\u001b[0m\u001b[1;33m)\u001b[0m\u001b[1;33m)\u001b[0m\u001b[1;33m\u001b[0m\u001b[0m\n\u001b[0m\u001b[0;32m      5\u001b[0m \u001b[1;33m\u001b[0m\u001b[0m\n\u001b[0;32m      6\u001b[0m \u001b[1;32mprint\u001b[0m\u001b[1;33m(\u001b[0m\u001b[0montology_file\u001b[0m\u001b[1;33m.\u001b[0m\u001b[0mkeys\u001b[0m\u001b[1;33m(\u001b[0m\u001b[1;33m)\u001b[0m\u001b[1;33m)\u001b[0m\u001b[1;33m\u001b[0m\u001b[0m\n",
      "\u001b[1;32m/usr/lib/python2.7/codecs.py\u001b[0m in \u001b[0;36mopen\u001b[1;34m(filename, mode, encoding, errors, buffering)\u001b[0m\n\u001b[0;32m    876\u001b[0m             \u001b[1;31m# Force opening of the file in binary mode\u001b[0m\u001b[1;33m\u001b[0m\u001b[1;33m\u001b[0m\u001b[0m\n\u001b[0;32m    877\u001b[0m             \u001b[0mmode\u001b[0m \u001b[1;33m=\u001b[0m \u001b[0mmode\u001b[0m \u001b[1;33m+\u001b[0m \u001b[1;34m'b'\u001b[0m\u001b[1;33m\u001b[0m\u001b[0m\n\u001b[1;32m--> 878\u001b[1;33m     \u001b[0mfile\u001b[0m \u001b[1;33m=\u001b[0m \u001b[0m__builtin__\u001b[0m\u001b[1;33m.\u001b[0m\u001b[0mopen\u001b[0m\u001b[1;33m(\u001b[0m\u001b[0mfilename\u001b[0m\u001b[1;33m,\u001b[0m \u001b[0mmode\u001b[0m\u001b[1;33m,\u001b[0m \u001b[0mbuffering\u001b[0m\u001b[1;33m)\u001b[0m\u001b[1;33m\u001b[0m\u001b[0m\n\u001b[0m\u001b[0;32m    879\u001b[0m     \u001b[1;32mif\u001b[0m \u001b[0mencoding\u001b[0m \u001b[1;32mis\u001b[0m \u001b[0mNone\u001b[0m\u001b[1;33m:\u001b[0m\u001b[1;33m\u001b[0m\u001b[0m\n\u001b[0;32m    880\u001b[0m         \u001b[1;32mreturn\u001b[0m \u001b[0mfile\u001b[0m\u001b[1;33m\u001b[0m\u001b[0m\n",
      "\u001b[1;31mIOError\u001b[0m: [Errno 2] No such file or directory: '/home/textfactory/tacolab/neural-belief-tracker-master/code/ontologies/ontology_dstc2_en.json'"
     ]
    }
   ],
   "source": [
    "import nbt\n",
    "ontology = os.getcwd()+\"/ontologies/ontology_dstc2_en.json\"\n",
    "\n",
    "ontology_file = json.load(codecs.open(ontology, \"r\", \"cp949\", \"ignore\"))\n",
    "    \n",
    "print(ontology_file.keys())\n",
    "previous_belief_state = None"
   ]
  },
  {
   "cell_type": "code",
   "execution_count": null,
   "metadata": {
    "collapsed": true
   },
   "outputs": [],
   "source": [
    "while True:\n",
    "    req_slot = raw_input(\"enter requirement slot:\")\n",
    "    if req_slot not in ontology_file:\n",
    "        print (req_slot + \"------\")\n",
    "        print (ontology_file.keys())\n",
    "        req_slot = \"\"\n",
    "    else :\n",
    "        req_slot = req_slot\n",
    "    \n",
    "    conf_slot = raw_input(\"Enter system confirm slot:\")\n",
    "    conf_value = raw_input(\"Enter system confirm value:\")\n",
    "    if  conf_slot not in ontology_file:\n",
    "        conf_slot = \"\"\n",
    "        conf_value = \"\"\n",
    "    elif conf_value not in ontology_file[conf_slot]:\n",
    "        conf_slot = \"\"\n",
    "        conf_value = \"\"\n",
    "    else:\n",
    "        conf_slot = conf_slot\n",
    "        conf_value = conf_value\n",
    "        \n",
    "        \n",
    "    print(\"req_slot: \" + req_slot)\n",
    "    print(\"conf_slot: \" + conf_slot)\n",
    "    print(\"conf_value: \" + conf_value)\n",
    "    \n",
    "    utterance = raw_input(\"user utterance:\")\n",
    "    \n",
    "    \n",
    "    NBT = NeuralBeliefTracker(\"config/woz_stat_update.cfg\")\n",
    "    NBT.track_utterance(utterance, req_slot=req_slot, conf_slot=conf_slot, conf_value=conf_value, past_belief_state=previous_belief_state)"
   ]
  }
 ],
 "metadata": {
  "kernelspec": {
   "display_name": "Python 2",
   "language": "python",
   "name": "python2"
  },
  "language_info": {
   "codemirror_mode": {
    "name": "ipython",
    "version": 2
   },
   "file_extension": ".py",
   "mimetype": "text/x-python",
   "name": "python",
   "nbconvert_exporter": "python",
   "pygments_lexer": "ipython2",
   "version": "2.7.6"
  }
 },
 "nbformat": 4,
 "nbformat_minor": 2
}
