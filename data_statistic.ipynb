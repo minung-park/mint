{
 "cells": [
  {
   "cell_type": "code",
   "execution_count": 37,
   "metadata": {},
   "outputs": [],
   "source": [
    "import os\n",
    "import codecs\n",
    "import json\n",
    "import random\n",
    "\n",
    "home_path = os.path.expanduser('~')\n",
    "root_dir = home_path + \"/origin_neural-belief-tracker\""
   ]
  },
  {
   "cell_type": "markdown",
   "metadata": {},
   "source": [
    "## Ontology"
   ]
  },
  {
   "cell_type": "code",
   "execution_count": 45,
   "metadata": {},
   "outputs": [
    {
     "name": "stdout",
     "output_type": "stream",
     "text": [
      "action set: requestable, informable, \n",
      "slot set: address, area, food, phone, price range, postcode, name, \n"
     ]
    }
   ],
   "source": [
    "ontology_file = root_dir + \"/ontologies/ontology_dstc2_en.json\"\n",
    "ontologies = json.load(codecs.open(ontology_file, 'r', 'cp949', 'ignore'))\n",
    "actions = ''\n",
    "slots = ''\n",
    "for action in ontologies:\n",
    "    actions += action + ', '\n",
    "\n",
    "for slot in ontologies['requestable']:\n",
    "    slots += slot + ', '\n",
    "    \n",
    "print \"action set: \" + actions\n",
    "print \"slot set: \" + slots"
   ]
  },
  {
   "cell_type": "markdown",
   "metadata": {},
   "source": [
    "## Training Data"
   ]
  },
  {
   "cell_type": "code",
   "execution_count": 42,
   "metadata": {},
   "outputs": [],
   "source": [
    "training_file = root_dir+'/data/woz/woz_train_en.json'\n",
    "#test_data = 'woz_test_en.json'\n",
    "#validate_data = 'woz_validate_en.json'\n",
    "\n",
    "total_chat_idx = 0\n",
    "user_chat_idx = 0\n",
    "sys_chat_idx = 0\n",
    "list = json.load(codecs.open(training_file, 'r', 'cp949', 'ignore'))\n",
    "\n",
    "for data in list:\n",
    "    idx = data[\"dialogue_idx\"]\n",
    "    dial_list = data['dialogue']\n",
    "    for dial_text in dial_list:\n",
    "        system_transcript = dial_text['system_transcript'] # system_utterance\n",
    "        transcript = dial_text['transcript'] # user_utterance\n",
    "        belief_states = dial_text['belief_state']\n",
    "        \n",
    "        if system_transcript:\n",
    "            total_chat_idx = total_chat_idx +1\n",
    "            sys_chat_idx = sys_chat_idx+1\n",
    "        if transcript:\n",
    "            total_chat_idx = total_chat_idx +1\n",
    "            user_chat_idx = user_chat_idx+1"
   ]
  },
  {
   "cell_type": "markdown",
   "metadata": {},
   "source": [
    "### training data 발화 수"
   ]
  },
  {
   "cell_type": "code",
   "execution_count": 43,
   "metadata": {},
   "outputs": [
    {
     "name": "stdout",
     "output_type": "stream",
     "text": [
      "total dialogue set: 600\n",
      "total: 4472\n",
      "user: 2536\n",
      "system: 1936\n"
     ]
    }
   ],
   "source": [
    "print(\"total dialogue set: \" + str(len(list)))\n",
    "print (\"total: \" + str(total_chat_idx)) # 데이터 총 발화 수\n",
    "print (\"user: \" + str(user_chat_idx)) # 데이터 총 발화 수\n",
    "print (\"system: \" + str(sys_chat_idx)) # 데이터 총 발화 수"
   ]
  },
  {
   "cell_type": "markdown",
   "metadata": {},
   "source": [
    "### what does consist training data?"
   ]
  },
  {
   "cell_type": "code",
   "execution_count": 44,
   "metadata": {},
   "outputs": [
    {
     "name": "stdout",
     "output_type": "stream",
     "text": [
      "==================== 434th dialogue ====================\n",
      "user: I'd like a moderately priced restaurant in the east part of town.\n",
      "{u'slots': [[u'price range', u'moderate']], u'act': u'inform'}\n",
      "{u'slots': [[u'area', u'east']], u'act': u'inform'}\n",
      "sys: There are 3 restaurants in the moderate price range and on the east part of town. Would you like Indian or Italian food?\n",
      "user: I don't have a preference. Either one is fine.\n",
      "{u'slots': [[u'price range', u'moderate']], u'act': u'inform'}\n",
      "{u'slots': [[u'food', u'dontcare']], u'act': u'inform'}\n",
      "{u'slots': [[u'area', u'east']], u'act': u'inform'}\n",
      "sys: Rajmahal is a moderately priced Indian restaurant in the east part of town. Would you like more information?\n",
      "user: Yes please. can i have the address, phone number and postcode ?\n",
      "{u'slots': [[u'slot', u'postcode']], u'act': u'request'}\n",
      "{u'slots': [[u'slot', u'phone']], u'act': u'request'}\n",
      "{u'slots': [[u'slot', u'address']], u'act': u'request'}\n",
      "{u'slots': [[u'price range', u'moderate']], u'act': u'inform'}\n",
      "{u'slots': [[u'area', u'east']], u'act': u'inform'}\n",
      "{u'slots': [[u'food', u'dontcare']], u'act': u'inform'}\n",
      "sys: Here is the information you asked for. phone is 01223 244955 and address is at 7 Barnwell Road Fen Ditton, C.B 5, 8 R.G. Is there anything else I can help you with today?\n",
      "user: No, Thank you. \n",
      "{u'slots': [[u'price range', u'moderate']], u'act': u'inform'}\n",
      "{u'slots': [[u'area', u'east']], u'act': u'inform'}\n",
      "{u'slots': [[u'food', u'dontcare']], u'act': u'inform'}\n"
     ]
    }
   ],
   "source": [
    "index = random.randrange(0,len(list)) #무작위 정수\n",
    "print('==================== '+str(index) + 'th dialogue'+' ====================')\n",
    "\n",
    "dial_list = list[index]['dialogue']\n",
    "\n",
    "for dial_text in dial_list:\n",
    "    system_transcript = dial_text['system_transcript'] # system_utterance\n",
    "    transcript = dial_text['transcript'] # user_utterance\n",
    "    belief_states = dial_text['belief_state']\n",
    "        \n",
    "    if system_transcript:\n",
    "        print('sys: ' + system_transcript)\n",
    "    if transcript:\n",
    "        print('user: ' + transcript)\n",
    "    if belief_states:\n",
    "        for belief_state in belief_states:\n",
    "            print(belief_state)\n"
   ]
  }
 ],
 "metadata": {
  "kernelspec": {
   "display_name": "Python 2",
   "language": "python",
   "name": "python2"
  },
  "language_info": {
   "codemirror_mode": {
    "name": "ipython",
    "version": 2
   },
   "file_extension": ".py",
   "mimetype": "text/x-python",
   "name": "python",
   "nbconvert_exporter": "python",
   "pygments_lexer": "ipython2",
   "version": "2.7.15"
  }
 },
 "nbformat": 4,
 "nbformat_minor": 2
}
